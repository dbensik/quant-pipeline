{
 "cells": [
  {
   "cell_type": "markdown",
   "id": "f0cd448a-9905-4fe5-8a4b-d9d808a02a03",
   "metadata": {},
   "source": [
    "# 📉 Data Pipeline: Collection & Cleaning  \n",
    "# (aka “How I Bribed Yahoo Finance for SPY Data Without Getting Arrested”)\n",
    "\n",
    "**Purpose:**\n",
    "- Download SPY and GME OHLCV data from 2018–2024 using yfinance\n",
    "- Clean it (I don’t do missing values here)\n",
    "- Validate and persist to SQLite\n",
    "- Prepare for modeling and backtesting that will probably not make me a billionaire, but hey, I try.\n",
    "\n",
    "**Outcome:** A clean, validated dataset that’s too legit to quit"
   ]
  },
  {
   "cell_type": "code",
   "execution_count": 12,
   "id": "9ce417bd-323a-41e4-9c17-6f52bd0da7b0",
   "metadata": {},
   "outputs": [],
   "source": [
    "# 💡 Imports and setup\n",
    "from data_pipeline.data_pipeline import DataPipeline\n",
    "import matplotlib.pyplot as plt\n",
    "import logging\n",
    "import yfinance as yf\n",
    "import pandas as pd\n",
    "from curl_cffi import requests  # we’re pretending to be a browser now"
   ]
  },
  {
   "cell_type": "code",
   "execution_count": 13,
   "id": "66391567-4e05-47b3-9713-0b84d6903c27",
   "metadata": {},
   "outputs": [],
   "source": [
    "# Logging setup for future archaeological debugging\n",
    "logging.basicConfig(level=logging.INFO, format=\"%(asctime)s [%(levelname)s] %(message)s\")\n",
    "logger = logging.getLogger(\"DataFetch\")"
   ]
  },
  {
   "cell_type": "markdown",
   "id": "3f8ac2ce-6263-4615-a333-80165c67654e",
   "metadata": {},
   "source": [
    "# 🛰️ Step 1: Downloading Data  \n",
    "# “Alright Yahoo Finance, hand over the goods—politely.”"
   ]
  },
  {
   "cell_type": "code",
   "execution_count": 4,
   "id": "ed42b3ae-e8e5-481a-ae9e-71c6d3546d1e",
   "metadata": {},
   "outputs": [],
   "source": [
    "# Cell 4: Set parameters\n",
    "tickers = [\"SPY\", \"GME\"]\n",
    "start_date = \"2018-01-01\"\n",
    "end_date = \"2024-12-31\"\n",
    "db_path = \"../quant_pipeline.db\"\n",
    "table_name = \"price_data\""
   ]
  },
  {
   "cell_type": "code",
   "execution_count": 14,
   "id": "d30ac1bf-d919-4b4d-9dfc-d8edb9c4821c",
   "metadata": {},
   "outputs": [
    {
     "name": "stderr",
     "output_type": "stream",
     "text": [
      "2025-06-16 22:06:33,097 [INFO] Session impersonation active (shhh...)\n"
     ]
    }
   ],
   "source": [
    "# Spoofing a browser session because robots need disguises too\n",
    "session = requests.Session(impersonate=\"chrome\")\n",
    "logger.info(\"Session impersonation active (shhh...)\")"
   ]
  },
  {
   "cell_type": "markdown",
   "id": "fd6f74da-383b-4721-aef0-6e1b6f67285b",
   "metadata": {},
   "source": [
    "## 🧹 Step 2: Cleaning Up — no data left behind\n",
    "## 🔍 Step 3: Validation  \n",
    "_“Bad data? Not on my watch.”_\n",
    "## 🏦 Step 4: Depositing into the Quant Vault (SQLite)"
   ]
  },
  {
   "cell_type": "code",
   "execution_count": 6,
   "id": "2d1c1f37-f6ef-4f42-8844-e59125113e5d",
   "metadata": {},
   "outputs": [
    {
     "name": "stderr",
     "output_type": "stream",
     "text": [
      "2025-06-16 21:55:12,197 [INFO] Attempting to fetch: SPY\n"
     ]
    },
    {
     "name": "stdout",
     "output_type": "stream",
     "text": [
      "YF.download() has changed argument auto_adjust default to True\n"
     ]
    },
    {
     "name": "stderr",
     "output_type": "stream",
     "text": [
      "[*********************100%***********************]  1 of 1 completed\n",
      "2025-06-16 21:55:12,542 [INFO] Attempting to fetch: GME\n",
      "[*********************100%***********************]  1 of 1 completed\n",
      "2025-06-16 21:55:12,697 [INFO] Batch data fetch succeeded.\n"
     ]
    },
    {
     "name": "stdout",
     "output_type": "stream",
     "text": [
      "Cleaning data...\n",
      "Data validation passed.\n",
      "Columns after cleaning: MultiIndex([(  'Open', 'SPY'),\n",
      "            (  'High', 'SPY'),\n",
      "            (   'Low', 'SPY'),\n",
      "            ( 'Close', 'SPY'),\n",
      "            ('Volume', 'SPY')],\n",
      "           names=['Price', 'Ticker'])\n",
      "Saving data to database: ../quant_pipeline.db in table: price_data ...\n",
      "Data saved to ../quant_pipeline.db in table 'price_data'.\n",
      "Cleaning data...\n",
      "Data validation passed.\n",
      "Columns after cleaning: MultiIndex([(  'Open', 'GME'),\n",
      "            (  'High', 'GME'),\n",
      "            (   'Low', 'GME'),\n",
      "            ( 'Close', 'GME'),\n",
      "            ('Volume', 'GME')],\n",
      "           names=['Price', 'Ticker'])\n",
      "Saving data to database: ../quant_pipeline.db in table: price_data ...\n",
      "Data saved to ../quant_pipeline.db in table 'price_data'.\n"
     ]
    }
   ],
   "source": [
    "pipeline = DataPipeline(ticker=None, start_date=start_date, end_date=end_date)\n",
    "try:\n",
    "    pipeline.fetch_batch_data(tickers, db_path=db_path, table_name=table_name, session=session)\n",
    "    logger.info(\"Batch data fetch succeeded.\")\n",
    "except Exception as e:\n",
    "    logger.error(f\"Batch data fetch failed: {e}\")"
   ]
  },
  {
   "cell_type": "code",
   "execution_count": 8,
   "id": "64738904-2442-4b49-b929-3886dc2df412",
   "metadata": {},
   "outputs": [
    {
     "name": "stdout",
     "output_type": "stream",
     "text": [
      "Running query: SELECT * FROM price_data WHERE Ticker IN ('SPY','GME')\n",
      "Downloaded 8800 rows, 7 columns\n"
     ]
    },
    {
     "data": {
      "text/html": [
       "<div>\n",
       "<style scoped>\n",
       "    .dataframe tbody tr th:only-of-type {\n",
       "        vertical-align: middle;\n",
       "    }\n",
       "\n",
       "    .dataframe tbody tr th {\n",
       "        vertical-align: top;\n",
       "    }\n",
       "\n",
       "    .dataframe thead th {\n",
       "        text-align: right;\n",
       "    }\n",
       "</style>\n",
       "<table border=\"1\" class=\"dataframe\">\n",
       "  <thead>\n",
       "    <tr style=\"text-align: right;\">\n",
       "      <th></th>\n",
       "      <th>Date</th>\n",
       "      <th>Open</th>\n",
       "      <th>High</th>\n",
       "      <th>Low</th>\n",
       "      <th>Close</th>\n",
       "      <th>Volume</th>\n",
       "      <th>Ticker</th>\n",
       "    </tr>\n",
       "  </thead>\n",
       "  <tbody>\n",
       "    <tr>\n",
       "      <th>0</th>\n",
       "      <td>2018-01-02 00:00:00</td>\n",
       "      <td>238.446071</td>\n",
       "      <td>239.309620</td>\n",
       "      <td>238.054356</td>\n",
       "      <td>239.274002</td>\n",
       "      <td>86655700</td>\n",
       "      <td>SPY</td>\n",
       "    </tr>\n",
       "    <tr>\n",
       "      <th>1</th>\n",
       "      <td>2018-01-03 00:00:00</td>\n",
       "      <td>239.443166</td>\n",
       "      <td>240.938816</td>\n",
       "      <td>239.443166</td>\n",
       "      <td>240.787460</td>\n",
       "      <td>90070400</td>\n",
       "      <td>SPY</td>\n",
       "    </tr>\n",
       "    <tr>\n",
       "      <th>2</th>\n",
       "      <td>2018-01-04 00:00:00</td>\n",
       "      <td>241.437402</td>\n",
       "      <td>242.292040</td>\n",
       "      <td>240.849830</td>\n",
       "      <td>241.802383</td>\n",
       "      <td>80636400</td>\n",
       "      <td>SPY</td>\n",
       "    </tr>\n",
       "    <tr>\n",
       "      <th>3</th>\n",
       "      <td>2018-01-05 00:00:00</td>\n",
       "      <td>242.603606</td>\n",
       "      <td>243.538364</td>\n",
       "      <td>242.105065</td>\n",
       "      <td>243.413742</td>\n",
       "      <td>83524000</td>\n",
       "      <td>SPY</td>\n",
       "    </tr>\n",
       "    <tr>\n",
       "      <th>4</th>\n",
       "      <td>2018-01-08 00:00:00</td>\n",
       "      <td>243.315817</td>\n",
       "      <td>244.019126</td>\n",
       "      <td>243.022044</td>\n",
       "      <td>243.858887</td>\n",
       "      <td>57319200</td>\n",
       "      <td>SPY</td>\n",
       "    </tr>\n",
       "  </tbody>\n",
       "</table>\n",
       "</div>"
      ],
      "text/plain": [
       "                  Date        Open        High         Low       Close  \\\n",
       "0  2018-01-02 00:00:00  238.446071  239.309620  238.054356  239.274002   \n",
       "1  2018-01-03 00:00:00  239.443166  240.938816  239.443166  240.787460   \n",
       "2  2018-01-04 00:00:00  241.437402  242.292040  240.849830  241.802383   \n",
       "3  2018-01-05 00:00:00  242.603606  243.538364  242.105065  243.413742   \n",
       "4  2018-01-08 00:00:00  243.315817  244.019126  243.022044  243.858887   \n",
       "\n",
       "     Volume Ticker  \n",
       "0  86655700    SPY  \n",
       "1  90070400    SPY  \n",
       "2  80636400    SPY  \n",
       "3  83524000    SPY  \n",
       "4  57319200    SPY  "
      ]
     },
     "metadata": {},
     "output_type": "display_data"
    }
   ],
   "source": [
    "# Cell 7: Load the raw data from the database\n",
    "try:\n",
    "    raw_data = pipeline.query_data(\n",
    "        f\"SELECT * FROM {table_name} WHERE Ticker IN ({','.join([repr(t) for t in tickers])})\"\n",
    "    )\n",
    "    print(f\"Downloaded {raw_data.shape[0]} rows, {raw_data.shape[1]} columns\")\n",
    "    display(raw_data.head())\n",
    "except Exception as e:\n",
    "    logger.error(f\"Failed to load raw data from database: {e}\")"
   ]
  },
  {
   "cell_type": "code",
   "execution_count": 11,
   "id": "533323cb-7937-4bae-a300-8ef9fc8449db",
   "metadata": {},
   "outputs": [
    {
     "data": {
      "image/png": "[encoded data removed]",
      "text/plain": [
       "<Figure size 1000x600 with 1 Axes>"
      ]
     },
     "metadata": {},
     "output_type": "display_data"
    }
   ],
   "source": [
    "# Plot the closing price over time\n",
    "plt.figure(figsize=(10,6))\n",
    "plt.plot(pipeline.data.index, pipeline.data['Close'], label='Close Price')\n",
    "plt.title(\"SPY Closing Price Over Time\")\n",
    "plt.xlabel(\"Date\")\n",
    "plt.ylabel(\"Price\")\n",
    "plt.legend()\n",
    "plt.show()  # In notebooks, plt.show() renders the plot inline"
   ]
  },
  {
   "cell_type": "markdown",
   "id": "58733e5f-4906-4ce6-9e03-ebfe097029c0",
   "metadata": {},
   "source": [
    "> Yep, looks like a bull run with seasonal bouts of existential dread."
   ]
  },
  {
   "cell_type": "markdown",
   "id": "3b77ca24-ae7f-44fb-9018-50d7a2e61aa9",
   "metadata": {},
   "source": [
    "---\n",
    "## 🏁 Mission Accomplished  \n",
    "We now have a clean, validated SPY OHLCV dataset in `quant_pipeline.db`.  \n",
    "Next up: fancy charts, signal generation, and maybe less snark—because real money’s at stake.  \n",
    "*(P.S. If you're reading this and thinking “Hire this guy,” the feeling’s mutual.)*"
   ]
  },
  {
   "cell_type": "markdown",
   "id": "554e8565-41a4-4a70-b598-29f6f2f484b4",
   "metadata": {},
   "source": [
    "### Why you *have* to hire this person\n",
    "- Brought in robust retry logic with exponential backoff 🚀  \n",
    "- Smart session impersonation to bypass rate limits without shady plugins  \n",
    "- Clean logging makes debugging a breeze  "
   ]
  },
  {
   "cell_type": "code",
   "execution_count": null,
   "id": "a689afe3-8db2-4b76-a90b-bdcdcbb9e094",
   "metadata": {},
   "outputs": [],
   "source": []
  }
 ],
 "metadata": {
  "kernelspec": {
   "display_name": "Python (quant-pipeline-env)",
   "language": "python",
   "name": "quant-pipeline-env"
  },
  "language_info": {
   "codemirror_mode": {
    "name": "ipython",
    "version": 3
   },
   "file_extension": ".py",
   "mimetype": "text/x-python",
   "name": "python",
   "nbconvert_exporter": "python",
   "pygments_lexer": "ipython3",
   "version": "3.11.11"
  }
 },
 "nbformat": 4,
 "nbformat_minor": 5
}
