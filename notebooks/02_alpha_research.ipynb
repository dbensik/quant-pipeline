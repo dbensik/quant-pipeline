{
 "cells": [
  {
   "cell_type": "code",
   "execution_count": 4,
   "id": "9febe2da-66bf-431e-a400-4670c5b89405",
   "metadata": {},
   "outputs": [
    {
     "ename": "ImportError",
     "evalue": "cannot import name 'EDA' from 'ml_models.eda' (/Users/dannybensik/Library/CloudStorage/GoogleDrive-dbensik@gmail.com/My Drive/Work/Dev/quant-pipeline/ml_models/eda.py)",
     "output_type": "error",
     "traceback": [
      "\u001b[0;31m---------------------------------------------------------------------------\u001b[0m",
      "\u001b[0;31mImportError\u001b[0m                               Traceback (most recent call last)",
      "Cell \u001b[0;32mIn[4], line 2\u001b[0m\n\u001b[1;32m      1\u001b[0m \u001b[38;5;28;01mfrom\u001b[39;00m \u001b[38;5;21;01malpha_models\u001b[39;00m\u001b[38;5;21;01m.\u001b[39;00m\u001b[38;5;21;01mmean_reversion\u001b[39;00m \u001b[38;5;28;01mimport\u001b[39;00m MeanReversionStrategy\n\u001b[0;32m----> 2\u001b[0m \u001b[38;5;28;01mfrom\u001b[39;00m \u001b[38;5;21;01mml_models\u001b[39;00m\u001b[38;5;21;01m.\u001b[39;00m\u001b[38;5;21;01meda\u001b[39;00m \u001b[38;5;28;01mimport\u001b[39;00m EDA\n\u001b[1;32m      4\u001b[0m \u001b[38;5;28mprint\u001b[39m(\u001b[38;5;124m\"\u001b[39m\u001b[38;5;124mAlpha and ML modules are ready to use!\u001b[39m\u001b[38;5;124m\"\u001b[39m)\n",
      "\u001b[0;31mImportError\u001b[0m: cannot import name 'EDA' from 'ml_models.eda' (/Users/dannybensik/Library/CloudStorage/GoogleDrive-dbensik@gmail.com/My Drive/Work/Dev/quant-pipeline/ml_models/eda.py)"
     ]
    }
   ],
   "source": [
    "from alpha_models.mean_reversion import MeanReversionStrategy\n",
    "from ml_models.eda import EDA\n",
    "\n",
    "print(\"Alpha and ML modules are ready to use!\")"
   ]
  },
  {
   "cell_type": "code",
   "execution_count": null,
   "id": "09840bde-540b-4e11-8137-f0b1f33401eb",
   "metadata": {},
   "outputs": [],
   "source": []
  }
 ],
 "metadata": {
  "kernelspec": {
   "display_name": "Python (quant-pipeline-env)",
   "language": "python",
   "name": "quant-pipeline-env"
  },
  "language_info": {
   "codemirror_mode": {
    "name": "ipython",
    "version": 3
   },
   "file_extension": ".py",
   "mimetype": "text/x-python",
   "name": "python",
   "nbconvert_exporter": "python",
   "pygments_lexer": "ipython3",
   "version": "3.11.11"
  }
 },
 "nbformat": 4,
 "nbformat_minor": 5
}
